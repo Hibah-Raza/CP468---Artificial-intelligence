{
 "cells": [
  {
   "cell_type": "markdown",
   "id": "f68df1f7-6945-4bd2-af3b-abb77e0f00fb",
   "metadata": {},
   "source": [
    "# Facial Expression Identification Using Custom CNN Model + 3 Pre-Trained Models"
   ]
  },
  {
   "cell_type": "markdown",
   "id": "846f929c-3628-4056-8113-d18c35359cd0",
   "metadata": {},
   "source": [
    "## Introduction\n",
    "\n",
    "Our facial expression indentification using pre-trained models is a deep-learning application in artificial inteligence. This project proposes to use pre-trained convolutional neural network models to recognize and categorize facial expressions such as angry, disgust, fear, happy, neutral, sad, and surpise. The initiative, which builds on prior research and improvements in transfer learning, seeks to enhance emotion indentification skills in real-world settings ranging from mental health to human-computer systems.\n",
    "\n",
    "__Our Two Key Phases:__\n",
    "\n",
    "_Phase 1:_ Designing and implementing a customized CNN model for facial expression indentification using TensorFlow API, Keras and Gradio.\n",
    "\n",
    "_Phase 2:_ Experimenting with pre-trained models and having an understanding of transfer learning using TensorFlow API and Keras.\n",
    "\n",
    "__Our Plan:__\n",
    "To compare the preformance of our custom-built model to pre-trained models and access their ability to indentify facial expressions.\n",
    "\n",
    "__Project Team:__\n",
    "\n",
    "Hibah Hibah: 169033490\n",
    "\n",
    "Iman Chaudhry: 210650820\n",
    "\n",
    "Arrangan Kathir: 169042354\n",
    "\n",
    "Tyler Rizzi: 169022274\n",
    "\n",
    "Brandon Dang: 169026034"
   ]
  },
  {
   "cell_type": "code",
   "execution_count": 1,
   "id": "68ae4fd3-40bd-4fd8-ab4c-bd737c306922",
   "metadata": {},
   "outputs": [
    {
     "data": {
      "image/png": "[encoded data removed]",
      "text/plain": [
       "<Figure size 640x480 with 1 Axes>"
      ]
     },
     "metadata": {},
     "output_type": "display_data"
    }
   ],
   "source": [
    "# Imports\n",
    "from tensorflow.keras.applications import VGG16, ResNet50, InceptionV3\n",
    "from tensorflow.keras.preprocessing.image import ImageDataGenerator\n",
    "from tensorflow.keras.callbacks import EarlyStopping, ModelCheckpoint\n",
    "from tensorflow.keras.layers import Input, Dense, Flatten, Dropout\n",
    "from tensorflow.keras.preprocessing.image import img_to_array\n",
    "from tensorflow.keras.preprocessing import image\n",
    "from tensorflow.keras.optimizers import RMSprop\n",
    "from tensorflow.keras.models import load_model\n",
    "from tensorflow.keras.models import Model\n",
    "from PIL import Image\n",
    "import matplotlib.pyplot as plt\n",
    "import tensorflow as tf\n",
    "import gradio as gr\n",
    "import numpy as np\n",
    "import cv2\n",
    "import os\n",
    "\n",
    "# Load and display an image from the dataset\n",
    "img = image.load_img(\"/Users/hibahchoudhry/Documents/CP468/Group Final Project/fer2013/train/angry/Training_3908.jpg\")\n",
    "plt.imshow(img)\n",
    "plt.show()"
   ]
  },
  {
   "cell_type": "markdown",
   "id": "cae86fb7-aa26-425e-b502-2e1df3448cf1",
   "metadata": {},
   "source": [
    "## Data Preperation\n",
    "\n",
    "For this project, we use the FER-2013 dataset, which is availabe on Kaggle. This dataset contains 35,887 grayscale images of faces, labeled with one of the seven expressions: happy, sad, angry, surprised, fear, disgust, or neutral. Each picture is a 48x48 pixels in size.\n",
    "\n",
    "__Our Steps for Preperation__\n",
    "\n",
    "__Step 1:__ _Dataset Loading:_ Loading FER-2013 dataset from Kaggle and uploading our path names to Jupyter Notebook.\n",
    "\n",
    "__Step 2:__ _Dataset Preprocessing:_ Preprocessing the images by adjusting their pixel values and resizing them to our models required input size.\n",
    "\n",
    "__Step 3:__ _Data Augumentation:_ Using data augumentation to boost the variety of our training data which will prevent any overfitting.\n",
    "\n",
    "__Step 4:__ _Data Splitting:_ To analyze our models preformance, the dataset is divided in 3 sets these will be training, validation, and testing."
   ]
  },
  {
   "cell_type": "code",
   "execution_count": 3,
   "id": "145ea80c-6ba9-4f49-a514-20bc1c4247b8",
   "metadata": {},
   "outputs": [
    {
     "name": "stdout",
     "output_type": "stream",
     "text": [
      "Found 28709 images belonging to 7 classes.\n",
      "Found 7178 images belonging to 7 classes.\n"
     ]
    }
   ],
   "source": [
    "train = ImageDataGenerator(rescale=1./255,\n",
    "                          rotation_range=30,\n",
    "                           shear_range=0.3,\n",
    "                           zoom_range=0.3,\n",
    "                          horizontal_flip=True,\n",
    "                           fill_mode='nearest')\n",
    "\n",
    "validation = ImageDataGenerator(rescale=1./255)\n",
    "\n",
    "train_dataset = train.flow_from_directory(\n",
    "    '/Users/hibahchoudhry/Documents/CP468/Group Final Project/fer2013/train/',\n",
    "    target_size=(48, 48),\n",
    "    batch_size=32,\n",
    "    color_mode='grayscale',\n",
    "    class_mode='categorical',\n",
    "    shuffle=True\n",
    ")\n",
    "\n",
    "validation_dataset = validation.flow_from_directory(\n",
    "    '/Users/hibahchoudhry/Documents/CP468/Group Final Project/fer2013/test/',\n",
    "    target_size=(48, 48),\n",
    "    batch_size=32,\n",
    "    color_mode='grayscale',\n",
    "    class_mode='categorical',\n",
    "    shuffle=True\n",
    ")"
   ]
  },
  {
   "cell_type": "markdown",
   "id": "a61a7ead-93a7-46ba-bfe9-6375b74d8d57",
   "metadata": {},
   "source": [
    "## CNN Model\n",
    "\n",
    "__Phase 1:__ Our Custom CNN Model Design and Implementation\n",
    "To classify facial expressions, we built a simple CNN model with TensorFlow and Keras API. The model design starts with multiple convolutional layers, then max-pooling layers, next a flattening layer, and lastly dense layers. Our implementation attempts to provide simple knowldge of CNN and its application in image classification problems, specifically for facial expression indentification.\n",
    "\n",
    "## Model Architecture\n",
    "\n",
    "__Conv2D Layers:__ A convolutional process extracts features from an input picture.\n",
    "\n",
    "__MaxPooling2D Layers:__ Reduces spatial dimentions of feature maps, lowering computational load and reuducing overfitting.\n",
    "\n",
    "__Flatten Layer:__ Converts the 2D feature maps to 1D feature vectors in preperation for fully connecting layers.\n",
    "\n",
    "__Dense Layers:__ Fully connected layers that conduct categorization using the extracted features."
   ]
  },
  {
   "cell_type": "code",
   "execution_count": 30,
   "id": "1d1603a0-e904-48a3-ba0e-5d59ec0bed7a",
   "metadata": {},
   "outputs": [
    {
     "name": "stdout",
     "output_type": "stream",
     "text": [
      "Epoch 1/20\n",
      "\u001b[1m898/898\u001b[0m \u001b[32m━━━━━━━━━━━━━━━━━━━━\u001b[0m\u001b[37m\u001b[0m \u001b[1m75s\u001b[0m 82ms/step - accuracy: 0.2505 - loss: 1.8086 - val_accuracy: 0.3073 - val_loss: 1.6985\n",
      "Epoch 2/20\n",
      "\u001b[1m898/898\u001b[0m \u001b[32m━━━━━━━━━━━━━━━━━━━━\u001b[0m\u001b[37m\u001b[0m \u001b[1m77s\u001b[0m 86ms/step - accuracy: 0.3075 - loss: 1.7048 - val_accuracy: 0.4170 - val_loss: 1.5023\n",
      "Epoch 3/20\n",
      "\u001b[1m898/898\u001b[0m \u001b[32m━━━━━━━━━━━━━━━━━━━━\u001b[0m\u001b[37m\u001b[0m \u001b[1m80s\u001b[0m 89ms/step - accuracy: 0.3835 - loss: 1.5725 - val_accuracy: 0.4649 - val_loss: 1.3892\n",
      "Epoch 4/20\n",
      "\u001b[1m898/898\u001b[0m \u001b[32m━━━━━━━━━━━━━━━━━━━━\u001b[0m\u001b[37m\u001b[0m \u001b[1m78s\u001b[0m 87ms/step - accuracy: 0.4169 - loss: 1.4956 - val_accuracy: 0.4734 - val_loss: 1.3533\n",
      "Epoch 5/20\n",
      "\u001b[1m898/898\u001b[0m \u001b[32m━━━━━━━━━━━━━━━━━━━━\u001b[0m\u001b[37m\u001b[0m \u001b[1m73s\u001b[0m 81ms/step - accuracy: 0.4409 - loss: 1.4410 - val_accuracy: 0.5035 - val_loss: 1.2988\n",
      "Epoch 6/20\n",
      "\u001b[1m898/898\u001b[0m \u001b[32m━━━━━━━━━━━━━━━━━━━━\u001b[0m\u001b[37m\u001b[0m \u001b[1m74s\u001b[0m 82ms/step - accuracy: 0.4651 - loss: 1.3782 - val_accuracy: 0.5273 - val_loss: 1.2474\n",
      "Epoch 7/20\n",
      "\u001b[1m898/898\u001b[0m \u001b[32m━━━━━━━━━━━━━━━━━━━━\u001b[0m\u001b[37m\u001b[0m \u001b[1m73s\u001b[0m 81ms/step - accuracy: 0.4782 - loss: 1.3618 - val_accuracy: 0.5348 - val_loss: 1.2351\n",
      "Epoch 8/20\n",
      "\u001b[1m898/898\u001b[0m \u001b[32m━━━━━━━━━━━━━━━━━━━━\u001b[0m\u001b[37m\u001b[0m \u001b[1m75s\u001b[0m 84ms/step - accuracy: 0.4956 - loss: 1.3247 - val_accuracy: 0.5513 - val_loss: 1.1873\n",
      "Epoch 9/20\n",
      "\u001b[1m898/898\u001b[0m \u001b[32m━━━━━━━━━━━━━━━━━━━━\u001b[0m\u001b[37m\u001b[0m \u001b[1m73s\u001b[0m 81ms/step - accuracy: 0.4957 - loss: 1.3121 - val_accuracy: 0.5397 - val_loss: 1.2045\n",
      "Epoch 10/20\n",
      "\u001b[1m898/898\u001b[0m \u001b[32m━━━━━━━━━━━━━━━━━━━━\u001b[0m\u001b[37m\u001b[0m \u001b[1m72s\u001b[0m 81ms/step - accuracy: 0.5120 - loss: 1.2871 - val_accuracy: 0.5543 - val_loss: 1.1577\n",
      "Epoch 11/20\n",
      "\u001b[1m898/898\u001b[0m \u001b[32m━━━━━━━━━━━━━━━━━━━━\u001b[0m\u001b[37m\u001b[0m \u001b[1m77s\u001b[0m 85ms/step - accuracy: 0.5172 - loss: 1.2727 - val_accuracy: 0.5676 - val_loss: 1.1490\n",
      "Epoch 12/20\n",
      "\u001b[1m898/898\u001b[0m \u001b[32m━━━━━━━━━━━━━━━━━━━━\u001b[0m\u001b[37m\u001b[0m \u001b[1m77s\u001b[0m 86ms/step - accuracy: 0.5168 - loss: 1.2694 - val_accuracy: 0.5518 - val_loss: 1.1714\n",
      "Epoch 13/20\n",
      "\u001b[1m898/898\u001b[0m \u001b[32m━━━━━━━━━━━━━━━━━━━━\u001b[0m\u001b[37m\u001b[0m \u001b[1m74s\u001b[0m 82ms/step - accuracy: 0.5231 - loss: 1.2412 - val_accuracy: 0.5687 - val_loss: 1.1323\n",
      "Epoch 14/20\n",
      "\u001b[1m898/898\u001b[0m \u001b[32m━━━━━━━━━━━━━━━━━━━━\u001b[0m\u001b[37m\u001b[0m \u001b[1m87s\u001b[0m 97ms/step - accuracy: 0.5228 - loss: 1.2478 - val_accuracy: 0.5737 - val_loss: 1.1224\n",
      "Epoch 15/20\n",
      "\u001b[1m898/898\u001b[0m \u001b[32m━━━━━━━━━━━━━━━━━━━━\u001b[0m\u001b[37m\u001b[0m \u001b[1m94s\u001b[0m 104ms/step - accuracy: 0.5323 - loss: 1.2304 - val_accuracy: 0.5656 - val_loss: 1.1227\n",
      "Epoch 16/20\n",
      "\u001b[1m898/898\u001b[0m \u001b[32m━━━━━━━━━━━━━━━━━━━━\u001b[0m\u001b[37m\u001b[0m \u001b[1m80s\u001b[0m 89ms/step - accuracy: 0.5434 - loss: 1.2132 - val_accuracy: 0.5673 - val_loss: 1.1276\n",
      "Epoch 17/20\n",
      "\u001b[1m898/898\u001b[0m \u001b[32m━━━━━━━━━━━━━━━━━━━━\u001b[0m\u001b[37m\u001b[0m \u001b[1m82s\u001b[0m 91ms/step - accuracy: 0.5370 - loss: 1.2030 - val_accuracy: 0.5791 - val_loss: 1.1115\n",
      "Epoch 18/20\n",
      "\u001b[1m898/898\u001b[0m \u001b[32m━━━━━━━━━━━━━━━━━━━━\u001b[0m\u001b[37m\u001b[0m \u001b[1m83s\u001b[0m 92ms/step - accuracy: 0.5470 - loss: 1.2016 - val_accuracy: 0.5751 - val_loss: 1.1062\n",
      "Epoch 19/20\n",
      "\u001b[1m898/898\u001b[0m \u001b[32m━━━━━━━━━━━━━━━━━━━━\u001b[0m\u001b[37m\u001b[0m \u001b[1m78s\u001b[0m 87ms/step - accuracy: 0.5473 - loss: 1.1915 - val_accuracy: 0.5741 - val_loss: 1.1235\n",
      "Epoch 20/20\n",
      "\u001b[1m898/898\u001b[0m \u001b[32m━━━━━━━━━━━━━━━━━━━━\u001b[0m\u001b[37m\u001b[0m \u001b[1m77s\u001b[0m 86ms/step - accuracy: 0.5433 - loss: 1.2044 - val_accuracy: 0.5825 - val_loss: 1.0917\n"
     ]
    }
   ],
   "source": [
    "# Define the CNN model\n",
    "model = tf.keras.models.Sequential([\n",
    "    Input(shape=(48, 48, 1)),\n",
    "    \n",
    "    tf.keras.layers.Conv2D(32, kernel_size=(3, 3), activation='relu'),\n",
    "    tf.keras.layers.Conv2D(64, kernel_size=(3, 3), activation='relu'),\n",
    "    \n",
    "    tf.keras.layers.MaxPool2D(pool_size=(2, 2)),\n",
    "    tf.keras.layers.Dropout(0.1),\n",
    "    \n",
    "    tf.keras.layers.Conv2D(128, kernel_size=(3, 3), activation='relu'),\n",
    "    tf.keras.layers.MaxPool2D(pool_size=(2, 2)),\n",
    "    tf.keras.layers.Dropout(0.1),\n",
    "    \n",
    "    tf.keras.layers.Conv2D(256, kernel_size=(3, 3), activation='relu'),\n",
    "    tf.keras.layers.MaxPool2D(pool_size=(2, 2)),\n",
    "    tf.keras.layers.Dropout(0.1), \n",
    "    \n",
    "    tf.keras.layers.Flatten(),\n",
    "    tf.keras.layers.Dense(512, activation='relu'),\n",
    "    tf.keras.layers.Dropout(0.2),\n",
    "    \n",
    "    tf.keras.layers.Dense(7, activation='softmax')\n",
    "])\n",
    "\n",
    "# Compile the model\n",
    "model.compile(loss='categorical_crossentropy',\n",
    "              optimizer='adam',\n",
    "              metrics=['accuracy'])\n",
    "\n",
    "early_stopping = EarlyStopping(monitor='val_loss', patience=5, restore_best_weights=True)\n",
    "checkpoint = ModelCheckpoint('custom_cnn_model_high.keras', monitor='val_loss', save_best_only=True)\n",
    "\n",
    "# Train the model\n",
    "model_fit = model.fit(\n",
    "    train_dataset,\n",
    "    epochs=20,\n",
    "    validation_data=validation_dataset,\n",
    "    callbacks=[early_stopping, checkpoint]\n",
    ")\n",
    "\n",
    "model.save_weights('custom_cnn_model.weights.h5')"
   ]
  },
  {
   "cell_type": "code",
   "execution_count": 42,
   "id": "9f771823-41d7-43d9-a67f-7f9411ccd1c3",
   "metadata": {},
   "outputs": [
    {
     "name": "stdout",
     "output_type": "stream",
     "text": [
      "The history saving thread hit an unexpected error (OperationalError('attempt to write a readonly database')).History will not be written to the database.\n"
     ]
    },
    {
     "data": {
      "image/png": "[encoded data removed]",
      "text/plain": [
       "<Figure size 1200x400 with 2 Axes>"
      ]
     },
     "metadata": {},
     "output_type": "display_data"
    }
   ],
   "source": [
    "history = model_fit.history\n",
    "\n",
    "plt.figure(figsize=(12, 4))\n",
    "\n",
    "plt.subplot(1, 2, 1)\n",
    "plt.plot(history['accuracy'], label='Training Accuracy')\n",
    "plt.plot(history['val_accuracy'], label='Validation Accuracy')\n",
    "plt.title('Training and Validation Accuracy')\n",
    "plt.xlabel('Epochs')\n",
    "plt.ylabel('Accuracy')\n",
    "plt.legend()\n",
    "\n",
    "plt.subplot(1, 2, 2)\n",
    "plt.plot(history['loss'], label='Training Loss')\n",
    "plt.plot(history['val_loss'], label='Validation Loss')\n",
    "plt.title('Training and Validation Loss')\n",
    "plt.xlabel('Epochs')\n",
    "plt.ylabel('Loss')\n",
    "plt.legend()\n",
    "\n",
    "plt.tight_layout()\n",
    "plt.show()"
   ]
  },
  {
   "cell_type": "code",
   "execution_count": 332,
   "id": "39990855-908c-42fa-a133-7d65e2629d87",
   "metadata": {},
   "outputs": [],
   "source": [
    "model.save('final_custom_cnn_model.keras')"
   ]
  },
  {
   "cell_type": "markdown",
   "id": "14d46a06-163e-48f5-b9ca-0a2c580835e3",
   "metadata": {},
   "source": [
    "# Gradio Interface & Real Time Predictions For Our Custom CNN Model"
   ]
  },
  {
   "cell_type": "code",
   "execution_count": 3,
   "id": "aa63e504-21db-461a-86e9-7b888795d644",
   "metadata": {},
   "outputs": [
    {
     "name": "stderr",
     "output_type": "stream",
     "text": [
      "/Library/Frameworks/Python.framework/Versions/3.12/lib/python3.12/site-packages/keras/src/saving/saving_lib.py:415: UserWarning: Skipping variable loading for optimizer 'rmsprop', because it has 14 variables whereas the saved optimizer has 26 variables. \n",
      "  saveable.load_own_variables(weights_store.get(inner_path))\n"
     ]
    },
    {
     "name": "stdout",
     "output_type": "stream",
     "text": [
      "Running on local URL:  http://127.0.0.1:7861\n",
      "\n",
      "To create a public link, set `share=True` in `launch()`.\n"
     ]
    },
    {
     "data": {
      "text/html": [
       "<div><iframe src=\"http://127.0.0.1:7861/\" width=\"100%\" height=\"500\" allow=\"autoplay; camera; microphone; clipboard-read; clipboard-write;\" frameborder=\"0\" allowfullscreen></iframe></div>"
      ],
      "text/plain": [
       "<IPython.core.display.HTML object>"
      ]
     },
     "metadata": {},
     "output_type": "display_data"
    },
    {
     "data": {
      "text/plain": []
     },
     "execution_count": 3,
     "metadata": {},
     "output_type": "execute_result"
    },
    {
     "name": "stdout",
     "output_type": "stream",
     "text": [
      "\u001b[1m1/1\u001b[0m \u001b[32m━━━━━━━━━━━━━━━━━━━━\u001b[0m\u001b[37m\u001b[0m \u001b[1m0s\u001b[0m 44ms/step\n",
      "\u001b[1m1/1\u001b[0m \u001b[32m━━━━━━━━━━━━━━━━━━━━\u001b[0m\u001b[37m\u001b[0m \u001b[1m0s\u001b[0m 16ms/step\n",
      "\u001b[1m1/1\u001b[0m \u001b[32m━━━━━━━━━━━━━━━━━━━━\u001b[0m\u001b[37m\u001b[0m \u001b[1m0s\u001b[0m 16ms/step\n",
      "\u001b[1m1/1\u001b[0m \u001b[32m━━━━━━━━━━━━━━━━━━━━\u001b[0m\u001b[37m\u001b[0m \u001b[1m0s\u001b[0m 19ms/step\n",
      "\u001b[1m1/1\u001b[0m \u001b[32m━━━━━━━━━━━━━━━━━━━━\u001b[0m\u001b[37m\u001b[0m \u001b[1m0s\u001b[0m 20ms/step\n"
     ]
    }
   ],
   "source": [
    "model = load_model('/Users/hibahchoudhry/Documents/CP468/Group Final Project/Custom CNN Model Weights/final_custom_cnn_model.keras')\n",
    "\n",
    "def predict(image):\n",
    "    \n",
    "    img_array = np.array(image) / 255.0\n",
    "    img_array = tf.image.resize(img_array, [48,48])\n",
    "    \n",
    "    if len(img_array.shape) == 3 and img_array.shape[-1] == 3:\n",
    "        img_array = img_array[:, :, 0]\n",
    "        \n",
    "    img_array = tf.expand_dims(img_array, axis=-1)\n",
    "    img_array = tf.expand_dims(img_array, axis=0)\n",
    "\n",
    "    preds = model.predict(img_array)\n",
    "\n",
    "    expressions = ['angry', 'disgusted', 'in fear', 'happy', 'neutral', 'sad', 'surprised']\n",
    "    pred_expression = expressions[np.argmax(preds[0])]\n",
    "\n",
    "    return f\"Our model predicts that you are {pred_expression}\"\n",
    "\n",
    "\n",
    "iface = gr.Interface(\n",
    "    fn=predict,\n",
    "    inputs=gr.Image(),\n",
    "    outputs=gr.Textbox(),\n",
    "    title=\"Facial Expression Identification with Our Custom CNN Model\",\n",
    "    description=\"Upload an image to facial expression predictions from our custom CNN Model!\"\n",
    ")\n",
    "iface.launch()"
   ]
  },
  {
   "cell_type": "code",
   "execution_count": null,
   "id": "16615db9-a3b7-4967-b422-8f7f3fcafecb",
   "metadata": {},
   "outputs": [],
   "source": [
    "face_classifier = cv2.CascadeClassifier(cv2.data.haarcascades + \"haarcascade_frontalface_default.xml\")\n",
    "\n",
    "facial_expression_model = load_model('/Users/hibahchoudhry/Documents/CP468/Group Final Project/Custom CNN Model Weights/final_custom_cnn_model.keras', compile=False)\n",
    "\n",
    "expression_labels = ['Angry', 'Disgusted', 'Fear', 'Happy', 'Neutral', 'Sad', 'Surprised']\n",
    "\n",
    "cap = cv2.VideoCapture(0)\n",
    "\n",
    "while True:\n",
    "    ret, frame=cap.read()\n",
    "    labels=[]\n",
    "    \n",
    "    gray=cv2.cvtColor(frame,cv2.COLOR_BGR2GRAY)\n",
    "    faces=face_classifier.detectMultiScale(gray,1.3,5)\n",
    "    for (x,y,w,h) in faces:\n",
    "        cv2.rectangle(frame,(x,y),(x+w, y+h), (255,0,0),2)\n",
    "        roi_gray=gray[y:y+h,x:x+w]\n",
    "        roi_gray=cv2.resize(roi_gray, (48,48),interpolation=cv2.INTER_AREA)\n",
    "        \n",
    "        roi=roi_gray.astype('float')/255.0\n",
    "        roi=img_to_array(roi)\n",
    "        roi=np.expand_dims(roi,axis=0)\n",
    "\n",
    "\n",
    "        preds=facial_expression_model.predict(roi)[0]\n",
    "        label=expression_labels[preds.argmax()]\n",
    "        label_position=(x,y)\n",
    "\n",
    "        cv2.putText(frame,label,label_position,cv2.FONT_HERSHEY_SIMPLEX,1,(0,255,0),2)\n",
    "\n",
    "    cv2.imshow('Facial Expression Identification', frame)\n",
    "    if cv2.waitKey(1) & 0xFF == ord('q'):\n",
    "        break\n",
    "cap.release()\n",
    "cv2.destroyAllWindows()"
   ]
  },
  {
   "cell_type": "markdown",
   "id": "8435a960-7dcf-4e04-a689-a6acca4782df",
   "metadata": {},
   "source": [
    "# 3 Pre-Trained Models and Gradio Interface\n",
    "\n",
    "__Phase 2:__ Experimenting with Pre-Trained Models\n",
    "\n",
    "We use pre-trained models to recognize facial expressions using transfer learning. For this project, we used fine-tuned models like VGG16, ResNet50, InceptionV3.\n",
    "\n",
    "__VGG16__ - https://keras.io/api/applications/vgg/#vgg16-function\n",
    "\n",
    "__ResNet50__ - https://keras.io/api/applications/resnet/#resnet50-function\n",
    "\n",
    "__InceptionV3__ - https://keras.io/api/applications/inceptionv3/"
   ]
  },
  {
   "cell_type": "code",
   "execution_count": 20,
   "id": "9b0dc4c0-5320-461c-8e03-0475f27a3c63",
   "metadata": {},
   "outputs": [
    {
     "name": "stdout",
     "output_type": "stream",
     "text": [
      "Found 28709 images belonging to 7 classes.\n",
      "Found 7178 images belonging to 7 classes.\n",
      "Epoch 1/5\n",
      "\u001b[1m898/898\u001b[0m \u001b[32m━━━━━━━━━━━━━━━━━━━━\u001b[0m\u001b[37m\u001b[0m \u001b[1m5350s\u001b[0m 6s/step - accuracy: 0.2430 - loss: 1.8331 - val_accuracy: 0.2537 - val_loss: 1.7948\n",
      "Epoch 2/5\n",
      "\u001b[1m898/898\u001b[0m \u001b[32m━━━━━━━━━━━━━━━━━━━━\u001b[0m\u001b[37m\u001b[0m \u001b[1m6381s\u001b[0m 7s/step - accuracy: 0.2529 - loss: 1.8028 - val_accuracy: 0.2657 - val_loss: 1.7805\n",
      "Epoch 3/5\n",
      "\u001b[1m898/898\u001b[0m \u001b[32m━━━━━━━━━━━━━━━━━━━━\u001b[0m\u001b[37m\u001b[0m \u001b[1m2755s\u001b[0m 3s/step - accuracy: 0.2566 - loss: 1.7884 - val_accuracy: 0.2598 - val_loss: 1.7619\n",
      "Epoch 4/5\n",
      "\u001b[1m898/898\u001b[0m \u001b[32m━━━━━━━━━━━━━━━━━━━━\u001b[0m\u001b[37m\u001b[0m \u001b[1m2897s\u001b[0m 3s/step - accuracy: 0.2618 - loss: 1.7809 - val_accuracy: 0.2878 - val_loss: 1.7547\n",
      "Epoch 5/5\n",
      "\u001b[1m898/898\u001b[0m \u001b[32m━━━━━━━━━━━━━━━━━━━━\u001b[0m\u001b[37m\u001b[0m \u001b[1m2993s\u001b[0m 3s/step - accuracy: 0.2669 - loss: 1.7713 - val_accuracy: 0.2835 - val_loss: 1.7442\n"
     ]
    }
   ],
   "source": [
    "from tensorflow.keras.callbacks import ModelCheckpoint\n",
    "\n",
    "train = ImageDataGenerator(rescale=1./255,\n",
    "                          rotation_range=30,\n",
    "                           shear_range=0.3,\n",
    "                           zoom_range=0.3,\n",
    "                          horizontal_flip=True,\n",
    "                           fill_mode='nearest')\n",
    "\n",
    "validation = ImageDataGenerator(rescale=1./255)\n",
    "\n",
    "train_dataset = train.flow_from_directory(\n",
    "    '/Users/hibahchoudhry/Documents/CP468/Group Final Project/fer2013/train/',\n",
    "    target_size=(224, 224),\n",
    "    batch_size=32,\n",
    "    color_mode='rgb',\n",
    "    class_mode='categorical',\n",
    "    shuffle=True\n",
    ")\n",
    "\n",
    "validation_dataset = validation.flow_from_directory(\n",
    "    '/Users/hibahchoudhry/Documents/CP468/Group Final Project/fer2013/test/',\n",
    "    target_size=(224, 224),\n",
    "    batch_size=32,\n",
    "    color_mode='rgb',\n",
    "    class_mode='categorical',\n",
    "    shuffle=True\n",
    ")\n",
    "\n",
    "# Initialize the VGG16 model without loading weights\n",
    "vgg16_base = VGG16(weights=None, include_top=False, input_shape=(224, 224, 3))\n",
    "\n",
    "for layer in vgg16_base.layers:\n",
    "    layer.trainable = False\n",
    "\n",
    "x = vgg16_base.output\n",
    "x = Flatten()(x)\n",
    "x = Dense(512, activation='relu')(x)\n",
    "x = Dropout(0.5)(x)\n",
    "predictions = Dense(7, activation='softmax')(x)\n",
    "\n",
    "vgg16_model = Model(inputs=vgg16_base.input, outputs=predictions)\n",
    "\n",
    "vgg16_model.compile(loss='categorical_crossentropy',\n",
    "                    optimizer='adam',\n",
    "                    metrics=['accuracy'])\n",
    "\n",
    "early_stopping = EarlyStopping(monitor='val_loss', patience=10, restore_best_weights=True)\n",
    "checkpoint = ModelCheckpoint('pretrained_model_vgg16_high.keras', monitor='val_loss', save_best_only=True)\n",
    "\n",
    "vgg16_history = vgg16_model.fit(\n",
    "    train_dataset,\n",
    "    epochs=5,\n",
    "    validation_data=validation_dataset,\n",
    "    callbacks=[early_stopping, checkpoint]\n",
    ")\n",
    "\n",
    "vgg16_model.save('trained_vgg16_model.keras')"
   ]
  },
  {
   "cell_type": "code",
   "execution_count": 21,
   "id": "c732f7ff-62c0-410c-848c-81470afac1e0",
   "metadata": {},
   "outputs": [
    {
     "name": "stdout",
     "output_type": "stream",
     "text": [
      "Found 28709 images belonging to 7 classes.\n",
      "Found 7178 images belonging to 7 classes.\n",
      "Epoch 1/5\n",
      "\u001b[1m898/898\u001b[0m \u001b[32m━━━━━━━━━━━━━━━━━━━━\u001b[0m\u001b[37m\u001b[0m \u001b[1m889s\u001b[0m 987ms/step - accuracy: 0.2291 - loss: 2.0071 - val_accuracy: 0.2471 - val_loss: 1.8213\n",
      "Epoch 2/5\n",
      "\u001b[1m898/898\u001b[0m \u001b[32m━━━━━━━━━━━━━━━━━━━━\u001b[0m\u001b[37m\u001b[0m \u001b[1m890s\u001b[0m 990ms/step - accuracy: 0.2493 - loss: 1.8275 - val_accuracy: 0.2471 - val_loss: 1.8115\n",
      "Epoch 3/5\n",
      "\u001b[1m898/898\u001b[0m \u001b[32m━━━━━━━━━━━━━━━━━━━━\u001b[0m\u001b[37m\u001b[0m \u001b[1m882s\u001b[0m 982ms/step - accuracy: 0.2551 - loss: 1.8134 - val_accuracy: 0.2471 - val_loss: 1.8136\n",
      "Epoch 4/5\n",
      "\u001b[1m898/898\u001b[0m \u001b[32m━━━━━━━━━━━━━━━━━━━━\u001b[0m\u001b[37m\u001b[0m \u001b[1m884s\u001b[0m 984ms/step - accuracy: 0.2520 - loss: 1.8145 - val_accuracy: 0.2471 - val_loss: 1.8110\n",
      "Epoch 5/5\n",
      "\u001b[1m898/898\u001b[0m \u001b[32m━━━━━━━━━━━━━━━━━━━━\u001b[0m\u001b[37m\u001b[0m \u001b[1m886s\u001b[0m 986ms/step - accuracy: 0.2526 - loss: 1.8091 - val_accuracy: 0.2471 - val_loss: 1.8119\n"
     ]
    }
   ],
   "source": [
    "from tensorflow.keras.callbacks import ModelCheckpoint\n",
    "\n",
    "train = ImageDataGenerator(rescale=1./255,\n",
    "                           rotation_range=30,\n",
    "                           shear_range=0.3,\n",
    "                           zoom_range=0.3,\n",
    "                           horizontal_flip=True,\n",
    "                           fill_mode='nearest')\n",
    "\n",
    "validation = ImageDataGenerator(rescale=1./255)\n",
    "\n",
    "train_dataset = train.flow_from_directory(\n",
    "    '/Users/hibahchoudhry/Documents/CP468/Group Final Project/fer2013/train/',\n",
    "    target_size=(224, 224),\n",
    "    batch_size=32,\n",
    "    color_mode='rgb',\n",
    "    class_mode='categorical',\n",
    "    shuffle=True\n",
    ")\n",
    "\n",
    "validation_dataset = validation.flow_from_directory(\n",
    "    '/Users/hibahchoudhry/Documents/CP468/Group Final Project/fer2013/test/',\n",
    "    target_size=(224, 224),\n",
    "    batch_size=32,\n",
    "    color_mode='rgb',\n",
    "    class_mode='categorical',\n",
    "    shuffle=True\n",
    ")\n",
    "\n",
    "# Initialize the ResNet50 model without loading weights\n",
    "resnet50_base = ResNet50(weights=None, include_top=False, input_shape=(224, 224, 3))\n",
    "\n",
    "for layer in resnet50_base.layers:\n",
    "    layer.trainable = False\n",
    "\n",
    "x = resnet50_base.output\n",
    "x = Flatten()(x)\n",
    "x = Dense(512, activation='relu')(x)\n",
    "x = Dropout(0.5)(x)\n",
    "predictions = Dense(7, activation='softmax')(x)\n",
    "\n",
    "resnet50_model = Model(inputs=resnet50_base.input, outputs=predictions)\n",
    "\n",
    "resnet50_model.compile(loss='categorical_crossentropy',\n",
    "                       optimizer='adam',\n",
    "                       metrics=['accuracy'])\n",
    "\n",
    "early_stopping = EarlyStopping(monitor='val_loss', patience=10, restore_best_weights=True)\n",
    "checkpoint = ModelCheckpoint('pretrained_model_resnet50_high.keras', monitor='val_loss', save_best_only=True)\n",
    "\n",
    "resnet50_history = resnet50_model.fit(\n",
    "    train_dataset,\n",
    "    epochs=5,\n",
    "    validation_data=validation_dataset,\n",
    "    callbacks=[early_stopping, checkpoint]\n",
    ")\n",
    "\n",
    "resnet50_model.save('trained_resnet50_model.keras')"
   ]
  },
  {
   "cell_type": "code",
   "execution_count": 22,
   "id": "ff203927-2500-411b-bf14-16bc1d66b1e3",
   "metadata": {},
   "outputs": [
    {
     "name": "stdout",
     "output_type": "stream",
     "text": [
      "Found 28709 images belonging to 7 classes.\n",
      "Found 7178 images belonging to 7 classes.\n",
      "Epoch 1/5\n",
      "\u001b[1m898/898\u001b[0m \u001b[32m━━━━━━━━━━━━━━━━━━━━\u001b[0m\u001b[37m\u001b[0m \u001b[1m1342s\u001b[0m 1s/step - accuracy: 0.2431 - loss: 1.8317 - val_accuracy: 0.2471 - val_loss: 1.8056\n",
      "Epoch 2/5\n",
      "\u001b[1m898/898\u001b[0m \u001b[32m━━━━━━━━━━━━━━━━━━━━\u001b[0m\u001b[37m\u001b[0m \u001b[1m2220s\u001b[0m 2s/step - accuracy: 0.2484 - loss: 1.8108 - val_accuracy: 0.2477 - val_loss: 1.7932\n",
      "Epoch 3/5\n",
      "\u001b[1m898/898\u001b[0m \u001b[32m━━━━━━━━━━━━━━━━━━━━\u001b[0m\u001b[37m\u001b[0m \u001b[1m1345s\u001b[0m 1s/step - accuracy: 0.2537 - loss: 1.7973 - val_accuracy: 0.2548 - val_loss: 1.7822\n",
      "Epoch 4/5\n",
      "\u001b[1m898/898\u001b[0m \u001b[32m━━━━━━━━━━━━━━━━━━━━\u001b[0m\u001b[37m\u001b[0m \u001b[1m1328s\u001b[0m 1s/step - accuracy: 0.2562 - loss: 1.7884 - val_accuracy: 0.2588 - val_loss: 1.7789\n",
      "Epoch 5/5\n",
      "\u001b[1m898/898\u001b[0m \u001b[32m━━━━━━━━━━━━━━━━━━━━\u001b[0m\u001b[37m\u001b[0m \u001b[1m1370s\u001b[0m 2s/step - accuracy: 0.2564 - loss: 1.7898 - val_accuracy: 0.2629 - val_loss: 1.7698\n"
     ]
    }
   ],
   "source": [
    "from tensorflow.keras.callbacks import ModelCheckpoint\n",
    "\n",
    "train = ImageDataGenerator(rescale=1./255,\n",
    "                           rotation_range=30,\n",
    "                           shear_range=0.3,\n",
    "                           zoom_range=0.3,\n",
    "                           horizontal_flip=True,\n",
    "                           fill_mode='nearest')\n",
    "\n",
    "validation = ImageDataGenerator(rescale=1./255)\n",
    "\n",
    "train_dataset = train.flow_from_directory(\n",
    "    '/Users/hibahchoudhry/Documents/CP468/Group Final Project/fer2013/train/',\n",
    "    target_size=(299, 299),\n",
    "    batch_size=32,\n",
    "    color_mode='rgb',\n",
    "    class_mode='categorical',\n",
    "    shuffle=True\n",
    ")\n",
    "\n",
    "validation_dataset = validation.flow_from_directory(\n",
    "    '/Users/hibahchoudhry/Documents/CP468/Group Final Project/fer2013/test/',\n",
    "    target_size=(299, 299),\n",
    "    batch_size=32,\n",
    "    color_mode='rgb',\n",
    "    class_mode='categorical',\n",
    "    shuffle=True\n",
    ")\n",
    "\n",
    "# Initialize the InceptionV3 model without loading weights\n",
    "inceptionv3_base = InceptionV3(weights=None, include_top=False, input_shape=(299, 299, 3))\n",
    "\n",
    "for layer in inceptionv3_base.layers:\n",
    "    layer.trainable = False\n",
    "\n",
    "x = inceptionv3_base.output\n",
    "x = Flatten()(x)\n",
    "x = Dense(512, activation='relu')(x)\n",
    "x = Dropout(0.5)(x)\n",
    "predictions = Dense(7, activation='softmax')(x)\n",
    "\n",
    "inceptionv3_model = Model(inputs=inceptionv3_base.input, outputs=predictions)\n",
    "\n",
    "inceptionv3_model.compile(loss='categorical_crossentropy',\n",
    "                          optimizer='adam',\n",
    "                          metrics=['accuracy'])\n",
    "\n",
    "early_stopping = EarlyStopping(monitor='val_loss', patience=10, restore_best_weights=True)\n",
    "checkpoint = ModelCheckpoint('pretrained_model_inceptionv3_high.keras', monitor='val_loss', save_best_only=True)\n",
    "\n",
    "inceptionv3_history = inceptionv3_model.fit(\n",
    "    train_dataset,\n",
    "    epochs=5,\n",
    "    validation_data=validation_dataset,\n",
    "    callbacks=[early_stopping, checkpoint]\n",
    ")\n",
    "\n",
    "inceptionv3_model.save('trained_inceptionv3_model.keras')"
   ]
  },
  {
   "cell_type": "code",
   "execution_count": 4,
   "id": "436a999d-7bc7-4cbd-a64b-dc28f54a4675",
   "metadata": {},
   "outputs": [
    {
     "name": "stdout",
     "output_type": "stream",
     "text": [
      "Running on local URL:  http://127.0.0.1:7862\n",
      "\n",
      "To create a public link, set `share=True` in `launch()`.\n"
     ]
    },
    {
     "data": {
      "text/html": [
       "<div><iframe src=\"http://127.0.0.1:7862/\" width=\"100%\" height=\"500\" allow=\"autoplay; camera; microphone; clipboard-read; clipboard-write;\" frameborder=\"0\" allowfullscreen></iframe></div>"
      ],
      "text/plain": [
       "<IPython.core.display.HTML object>"
      ]
     },
     "metadata": {},
     "output_type": "display_data"
    },
    {
     "data": {
      "text/plain": []
     },
     "execution_count": 4,
     "metadata": {},
     "output_type": "execute_result"
    },
    {
     "name": "stdout",
     "output_type": "stream",
     "text": [
      "\u001b[1m1/1\u001b[0m \u001b[32m━━━━━━━━━━━━━━━━━━━━\u001b[0m\u001b[37m\u001b[0m \u001b[1m0s\u001b[0m 168ms/step\n",
      "\u001b[1m1/1\u001b[0m \u001b[32m━━━━━━━━━━━━━━━━━━━━\u001b[0m\u001b[37m\u001b[0m \u001b[1m1s\u001b[0m 537ms/step\n",
      "\u001b[1m1/1\u001b[0m \u001b[32m━━━━━━━━━━━━━━━━━━━━\u001b[0m\u001b[37m\u001b[0m \u001b[1m1s\u001b[0m 720ms/step\n"
     ]
    }
   ],
   "source": [
    "vgg16_model = load_model('/Users/hibahchoudhry/Documents/CP468/Group Final Project/pre-trained models saved/trained_vgg16_model.keras')\n",
    "resnet50_model = load_model('/Users/hibahchoudhry/Documents/CP468/Group Final Project/pre-trained models saved/trained_resnet50_model.keras')\n",
    "inceptionv3_model = load_model('/Users/hibahchoudhry/Documents/CP468/Group Final Project/pre-trained models saved/trained_inceptionv3_model.keras')\n",
    "\n",
    "expressions = ['angry', 'disgust', 'fear', 'happy', 'neutral', 'sad', 'surprise']\n",
    "\n",
    "def preprocess_image(img, target_size):\n",
    "    img = Image.fromarray(np.uint8(img))  # Convert to PIL Image\n",
    "    img = img.resize(target_size)\n",
    "    img = img.convert('L')  # Ensure image is in grayscale\n",
    "    img_array = img_to_array(img)\n",
    "    img_array = np.repeat(img_array[..., np.newaxis], 3, -1)  # Convert to 3 channels\n",
    "    img_array = np.expand_dims(img_array, axis=0)\n",
    "    img_array /= 255.0\n",
    "    return img_array\n",
    "\n",
    "def predict(image):\n",
    "    img_vgg16 = preprocess_image(image, target_size=(224, 224))\n",
    "    img_resnet50 = preprocess_image(image, target_size=(224, 224))\n",
    "    img_inceptionv3 = preprocess_image(image, target_size=(299, 299))\n",
    "\n",
    "    img_vgg16 = np.squeeze(img_vgg16, axis=-2)\n",
    "    img_resnet50 = np.squeeze(img_resnet50, axis=-2)\n",
    "    img_inceptionv3 = np.squeeze(img_inceptionv3, axis=-2)\n",
    "    \n",
    "    pred_vgg16 = vgg16_model.predict(img_vgg16)\n",
    "    pred_resnet50 = resnet50_model.predict(img_resnet50)\n",
    "    pred_inceptionv3 = inceptionv3_model.predict(img_inceptionv3)\n",
    "    \n",
    "    expression_vgg16 = expressions[np.argmax(pred_vgg16)]\n",
    "    expression_resnet50 = expressions[np.argmax(pred_resnet50)]\n",
    "    expression_inceptionv3 = expressions[np.argmax(pred_inceptionv3)]\n",
    "    \n",
    "    return f\"VGG16 predicts: {expression_vgg16}\", f\"ResNet50 predicts: {expression_resnet50}\", f\"InceptionV3 predicts: {expression_inceptionv3}\"\n",
    "\n",
    "iface = gr.Interface(\n",
    "    fn=predict,\n",
    "    inputs=gr.Image(),\n",
    "    outputs=[\n",
    "        gr.Textbox(label=\"VGG16 Predicts: \"),\n",
    "        gr.Textbox(label=\"ResNet50 Predicts: \"),\n",
    "        gr.Textbox(label=\"InceptionV3 Predicts:\")\n",
    "    ],\n",
    "    title=\"Facial Expression Identification with Pretrained Models\",\n",
    "    description=\"Upload an image to get expression predictions from Pre-Trained Models VGG16, ResNet50, and InceptionV3!\"\n",
    ")\n",
    "\n",
    "iface.launch()"
   ]
  }
 ],
 "metadata": {
  "kernelspec": {
   "display_name": "Python 3 (ipykernel)",
   "language": "python",
   "name": "python3"
  },
  "language_info": {
   "codemirror_mode": {
    "name": "ipython",
    "version": 3
   },
   "file_extension": ".py",
   "mimetype": "text/x-python",
   "name": "python",
   "nbconvert_exporter": "python",
   "pygments_lexer": "ipython3",
   "version": "3.12.3"
  }
 },
 "nbformat": 4,
 "nbformat_minor": 5
}
